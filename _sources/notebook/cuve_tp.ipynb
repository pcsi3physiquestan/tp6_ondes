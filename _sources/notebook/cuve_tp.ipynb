{
 "cells": [
  {
   "cell_type": "markdown",
   "id": "dominant-injection",
   "metadata": {},
   "source": [
    "# Travaux pratiques\n",
    "Ces manipulations sont principalement qualitatives ou semi-qualitative. Il n'est pas nécessaire de procéder à des mesure d'incertitude.\n",
    "\n",
    "## Manipulations préliminaires\n",
    "### Mise en place du dispositif\n",
    "\n",
    "Il s'agit plus ici de la mise en place de la cuve à onde avec son dispositif de vidange pour éviter toute inondation.\n",
    "\n",
    "* Placer le récipient de vidange sous le tube de vidange et accrocher la pince de serrage sur le tube.\n",
    "* Remplir la cuve d'eau jusqu'à recouvrir les 3/4 de la mousse entourant la cuve (ne pas la recouvrir complètement). S'assurer que l'eau ne fuit pas par le tube. Ou pourra fixer le tube de vidange vers le haut pour éviter les fuite. Si la cuve semble trop penchée, appeler le professeur.\n",
    "* Brancher l'alimentation du dispositif d'éclairage.\n",
    "* Régler la fréquence d'excitation sur 0 et l'amplitude au minimum.\n",
    "* Brancher le vibreur au dispositif d'excitation.\n",
    "\n",
    "````{attention} \n",
    "Le vibreur devra être correctement placé à chaque expérience. L'embout excitateur ne doit surtout pas toucher la paroi en verre. Réduire l'amplitude de vibration si nécessaire.\n",
    "````\n",
    "\n",
    "### Grandissement du dispositif\n",
    "Comme expliqué précédemment, la surface de l'eau est éclairée puis la lumière, reflétée par un miroir plan et projetée sur un écran sur lesquelles se feront les observations. Ce dispositif ne conserve pas les tailles, il est doncnécessaire de mesurer le grandissement de l'ensemble, c'est-à-dire le rapport entre la taille $d_1$ observée sur l'écran et celle $d_0$ de l'objet placé dans la cuve.\n",
    "\n",
    "* Régler le fréquence du vibreur sur 0. Mesurer un côté d'un objet en plexiglas. Ce sera la taille $d_0$.\n",
    "* Placer l'objet en plexiglas dans la cuve de manière à observer complètement son image sur l'écran.\n",
    "* Mesurer la taille $d_1$ de l'image sur l'écran. En déduire le rapport: $\\gamma=\\frac{d_1}{d_0}$\n",
    "* Identifier dans un tableau les diverses sources possibles d'incertitude en précisant celle qui sont selon vous prépondérante(s) et quantifiable(s)? Evaluer celle(s) qui peuvent l'être.\n",
    "\n",
    "## Forme d'onde\n",
    "````{margin} \n",
    "Si les mesures quantitatives seront évidemment faites sur l'écran de projection, il est fortement conseillé d'observer les phénomènes sur l'écran ET à la surface de l'eau.\n",
    "````\n",
    "\n",
    "````{admonition} Observation de la propagation d'une onde de surface.\n",
    ":class: tip\n",
    "1. Réfléchir au support et à l'embout à utiliser. Réaliser le dispositif adéquat et procéder à une excitation unique de la surface de l'eau pour observer la propagation d'une onde de surface.\n",
    "2. Peut-on au moyen de cette excitation unique mesurer la vitesse de propagation de l'onde à l'oeil nu?\n",
    "3. Quelle est la forme de l'onde obtenue dans l'expérience précédente?\n",
    "4. Proposer un montage simple permettant d'obtenir une onde plane se propageant à la surface de l'eau (en première approximation évidemment).\n",
    "````\n",
    "\n",
    "## Vitesse de propagation des ondes\n",
    "\n",
    "Les expériences précédentes montrent qu'on ne peut mesurer directement la vitesse de propagation de l'onde à l'oeil nu au moyen d'une excitation unique non périodique. Nous allons donc utiliser pour ce faire une excitation périodique de fréquence fixée. Pour réaliser des mesures, il nous faut une image stable du profil de la surface.\n",
    "\n",
    "Nous allons utiliser pour cela le stroboscope intégré à la cuve à onde. Ce dernier peut soit être synchronisé pour figer l'observation de la forme d'onde et ainsi faire des mesures ou désynchronisé pour observer qu'il y a propagation.\n",
    "\n",
    "```{margin} \n",
    "Mais la vitesse observée n'est PAS la vitesse de propagation !\n",
    "```\n",
    "\n",
    "````{note} \n",
    "Pour réaliser une excitation périodique, il faut débrancher le dispositif d'excitation manuel.\n",
    "````\n",
    "\n",
    "````{admonition} Manipulation\n",
    ":class: tip\n",
    "1. Se placer à la fréquence de 30Hz et observer la figure obtenue lorsque le stroboscope est synchronisé. Quelle grandeur physique peut-on mesurer? Proposer un protocole permettant d'obtenir la célérité de l'onde pour diverses fréquences de 15 à 75Hz. Quelles sont les grandeurs mesurées directement?\n",
    "2. Réaliser l'expérience (6 à 7 mesures suffisent) et obtenir ainsi le tracé de $v(f)$ : la célérité des ondes en fonction de la fréquence. Vérifier ainsi que le milieu est dispersif.\n",
    "````\n",
    "\n",
    "## Phénomènes liés au caractère ondulatoire.\n",
    "\n",
    "````{admonition} Manipulatino\n",
    ":class: tip\n",
    "1.  Former au moyen des obstacles proposés une petite fente jouant le rôle de diaphragme. Observer le front d'onde en sortie et l'influence qualitative de la largeur de la fente sur l'onverture angulaire. Comment appelle-t-on ce phénomène ?\n",
    "2. Former un embout excitateur formé de deux sources ponctuelles dont on mesurera l'écart. Observer la figure d'interférence obtenues. On essaiera de rendre compte de cette figure au mieux et de réfléchir aux grandeurs qu'on peut mesurer.\n",
    "\n",
    "````\n",
    "\n",
    "````{attention} \n",
    "A la fin du TP, il faudra vidanger la cuve afin d'éviter tout dépôt calcaire.\n",
    "````"
   ]
  }
 ],
 "metadata": {
  "jupytext": {
   "encoding": "# -*- coding: utf-8 -*-",
   "formats": "ipynb,md:myst",
   "split_at_heading": true,
   "text_representation": {
    "extension": ".md",
    "format_name": "myst",
    "format_version": 0.13,
    "jupytext_version": "1.10.3"
   }
  },
  "kernelspec": {
   "display_name": "Python 3",
   "language": "python",
   "name": "python3"
  },
  "language_info": {
   "codemirror_mode": {
    "name": "ipython",
    "version": 3
   },
   "file_extension": ".py",
   "mimetype": "text/x-python",
   "name": "python",
   "nbconvert_exporter": "python",
   "pygments_lexer": "ipython3",
   "version": "3.9.2"
  },
  "source_map": [
   15
  ]
 },
 "nbformat": 4,
 "nbformat_minor": 5
}