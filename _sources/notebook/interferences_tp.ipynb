{
 "cells": [
  {
   "cell_type": "markdown",
   "id": "asian-lobby",
   "metadata": {},
   "source": [
    "# Travaux pratiques\n",
    "\n",
    "## Analyse du spectre de différentes sources lumineuses\n",
    "````{attention} \n",
    "Les Lasers peuvent \\^etre extr\\^emement dangereux pour la vue. Il ne faut JAMAIS placé son oeil dans la direction de propagation du Laser et faire attention aux réflexions. Les lampes spectrales et les lampes à incandescence peuvent \\^etre très chaudes. Il faut les manipuler avec précautions et ne surtout pas toucher l'ampoule. D'une manière générale, le matériel d'optique est un matériel fragile qu'il faut manipuler avec soin.\n",
    "````\n",
    "\n",
    "````{admonition} Obtenir différents spectre lumineux\n",
    ":class: tip\n",
    "1. Eclairer le capteur au moyen de diverses sources lumineuses proposées et observer et décrire les spectres obtenus gr\\^ace à l'option ``Spectrographe''.\n",
    "    * Commencer par la lampe à incandescence pour vérifier que la correction du capteur est bien réalisée. Si l'intensité chute pour les couleurs rouge-orange, c'est que la correction du capteur n'a pas été réalisée correctement.\n",
    "    * Allumer la lampe spectrale (noter laquelle) quelques temps avant d'analyser son spectre car elle met un certain temps avant d'atteindre un régime permanent.\n",
    "    * Vérifier que le LASER arrive bien sur la fibre (attention, il peut y avoir saturation du capteur).\n",
    "\n",
    "````"
   ]
  }
 ],
 "metadata": {
  "jupytext": {
   "encoding": "# -*- coding: utf-8 -*-",
   "formats": "ipynb,md:myst",
   "split_at_heading": true,
   "text_representation": {
    "extension": ".md",
    "format_name": "myst",
    "format_version": 0.13,
    "jupytext_version": "1.10.3"
   }
  },
  "kernelspec": {
   "display_name": "Python 3",
   "language": "python",
   "name": "python3"
  },
  "language_info": {
   "codemirror_mode": {
    "name": "ipython",
    "version": 3
   },
   "file_extension": ".py",
   "mimetype": "text/x-python",
   "name": "python",
   "nbconvert_exporter": "python",
   "pygments_lexer": "ipython3",
   "version": "3.9.2"
  },
  "source_map": [
   15
  ]
 },
 "nbformat": 4,
 "nbformat_minor": 5
}