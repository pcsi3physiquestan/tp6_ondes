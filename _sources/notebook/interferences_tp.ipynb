{
 "cells": [
  {
   "cell_type": "markdown",
   "id": "physical-thousand",
   "metadata": {},
   "source": [
    "# Travaux pratiques\n",
    "\n",
    "## Analyse du spectre de différentes sources lumineuses\n",
    "````{attention} \n",
    "Les Lasers peuvent être extrêmement dangereux pour la vue. Il ne faut JAMAIS placé son oeil dans la direction de propagation du Laser et faire attention aux réflexions. Les lampes spectrales et les lampes à incandescence peuvent être très chaudes. Il faut les manipuler avec précautions et ne surtout pas toucher l'ampoule. D'une manière générale, le matériel d'optique est un matériel fragile qu'il faut manipuler avec soin.\n",
    "````\n",
    "\n",
    "````{admonition} Obtenir différents spectre lumineux\n",
    ":class: tip\n",
    "1. Eclairer le capteur au moyen de diverses sources lumineuses proposées et observer et décrire les spectres obtenus gr\\^ace à l'option ``Spectrographe''.\n",
    "    * Commencer par la lampe à incandescence pour vérifier que la correction du capteur est bien réalisée. Si l'intensité chute pour les couleurs rouge-orange, c'est que la correction du capteur n'a pas été réalisée correctement.\n",
    "    * Allumer la lampe spectrale (noter laquelle) quelques temps avant d'analyser son spectre car elle met un certain temps avant d'atteindre un régime permanent.\n",
    "    * Vérifier que le LASER arrive bien sur la fibre (attention, il peut y avoir saturation du capteur).\n",
    "\n",
    "````\n",
    "## Etude de la diffraction\n",
    "\n",
    "Il s'agit d'une étude purement qualitative. On utilisera un LASER. __Ne pas regarder le laser directement et attention aux réflexion.__\n",
    "\n",
    "````{admonition} Etude de la diffraction\n",
    ":class: tip\n",
    "1. Eclairer les fentes simples de taille différentes avec le LASER et observer l'évolution de la tâche centrale sur un écran situé à bonne distance. Commenter le profil d'intensité observé à chaque fois.\n",
    "2. Eclairer maintenant les trous simples et commenter à nouveau les observations.\n",
    "3. Remplacer l'écran par la barette CCD et observer le profil d'intensité lorsqu'on éclaire une fente. Mesurer rapidement la taille de la tâche de diffraction.\n",
    "````\n",
    "\n",
    "## Etude des interférences.\n",
    "### Etude à distance finie\n",
    "On utilise à nouveau le LASER.\n",
    "\n",
    "````{admonition} Etude des interférences\n",
    ":class: tip\n",
    "1. Eclairer les fentes doubles avec le LASER et mesurer l'interfrange sur un écran situé à une distance D. Vérifier que l'interfrange a à peu près la valeur attendue (on ne demande pas de calcul d'incertitude).\n",
    "2. Faire la même manipulation avec les autres fentes doubles.\n",
    "3. Remplacer l'écran par la barette CCD et reprendre la mesure précédente.\n",
    "````\n",
    "\n",
    "### Etude à l'infini\n",
    "\n",
    "Pour étudier la figure d'interférence à l'infini, on va la projeter sur un écran situé dans le plan focal image d'une lentille.\n",
    "\n",
    "````{admonition} Distance focale de la lentille\n",
    ":class: tip\n",
    "1. Commencer par éteindre le LASER et enlever le ainsi que le jeton d'interférences.\n",
    "2. En utilisant la lampe à LED. Réaliser un dispositif {lentille+écran} où l'écran est dans le plan focal image de la lentille. On prendra la lentille de plus grande focale à disposition.\n",
    "3. Enlever la lampe et replacer le LASER avec le jeton d'interférences.\n",
    "4. Observer la figure d'interférences et mesurer l'interfance. La comparer à la valeur attendue (sans incertitude à nouveau).\n",
    "````\n",
    "\n",
    "### Complément : Perte de cohérence\n",
    "> Remplacer le LASER par une lampe au sodium. Observe-t-on encore correctement les interférences ? On utilisera un diaphragme à iris pour limiter l'éclairage à une seule double fente.\n",
    "> Remplacer la lampe par une lampe à LED. Observe-t-on encore correctement les interférences ?"
   ]
  }
 ],
 "metadata": {
  "jupytext": {
   "encoding": "# -*- coding: utf-8 -*-",
   "formats": "ipynb,md:myst",
   "split_at_heading": true,
   "text_representation": {
    "extension": ".md",
    "format_name": "myst",
    "format_version": 0.13,
    "jupytext_version": "1.10.3"
   }
  },
  "kernelspec": {
   "display_name": "Python 3",
   "language": "python",
   "name": "python3"
  },
  "language_info": {
   "codemirror_mode": {
    "name": "ipython",
    "version": 3
   },
   "file_extension": ".py",
   "mimetype": "text/x-python",
   "name": "python",
   "nbconvert_exporter": "python",
   "pygments_lexer": "ipython3",
   "version": "3.9.2"
  },
  "source_map": [
   15
  ]
 },
 "nbformat": 4,
 "nbformat_minor": 5
}