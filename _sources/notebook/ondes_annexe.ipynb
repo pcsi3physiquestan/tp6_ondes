{
 "cells": [
  {
   "cell_type": "markdown",
   "id": "explicit-pickup",
   "metadata": {},
   "source": [
    "(polyfit_variance)=\n",
    "# Polyfit avec la propagation des variances\n",
    "Il n'est pas nécessaire de réaliser un calcul supplémentaire pour estimer l'incertitude-type de la pente et de l'ordonnée à l'origine car la fonction offre la possibilité de le faire.\n",
    "\n",
    "On utilise la signature :\n",
    "\n",
    "```ipython\n",
    "pars, V = np.polyfit(X, Y, 1, cov=True)\n",
    "```\n",
    "\n",
    "`V` est alors une matrice numpy. L'intertitude-type sur la pente s'obtient alors par $u(Y) \\times \\sqrt{V[0][0]}$ et l'intertitude-type sur l'ordonnée à l'origine s'obtient alors par $u(Y) \\times \\sqrt{V[1][1]}$.\n",
    "\n",
    "````{attention}\n",
    "Cette méthode a l'air simple MAIS :\n",
    "* elle n'est pas au programme, celle que vous devez connaître est la méthode de Monte-Carlo. On l'utilise ici simplement pour montrer comment on ferait avec la propagation des variances\n",
    "* elle est imprécise car elle suppose que $u(Y)$ est le même pour chaque mesure (il faudra prendre une moyenne) et ne tient pas compte des incertitudes sur les abscisses. La multiplication par $u(Y)$ est n'est d'ailleurs pas forcémentr valable suivant les cas.\n",
    "\n",
    "Il est donc important de maitriser la méthode de Monte-Carlo pour obtenir l'incertitude après régression linéaire.\n",
    "````"
   ]
  }
 ],
 "metadata": {
  "jupytext": {
   "encoding": "# -*- coding: utf-8 -*-",
   "formats": "ipynb,md:myst",
   "split_at_heading": true,
   "text_representation": {
    "extension": ".md",
    "format_name": "myst",
    "format_version": 0.13,
    "jupytext_version": "1.10.3"
   }
  },
  "kernelspec": {
   "display_name": "Python 3",
   "language": "python",
   "name": "python3"
  },
  "language_info": {
   "codemirror_mode": {
    "name": "ipython",
    "version": 3
   },
   "file_extension": ".py",
   "mimetype": "text/x-python",
   "name": "python",
   "nbconvert_exporter": "python",
   "pygments_lexer": "ipython3",
   "version": "3.9.2"
  },
  "source_map": [
   15
  ]
 },
 "nbformat": 4,
 "nbformat_minor": 5
}