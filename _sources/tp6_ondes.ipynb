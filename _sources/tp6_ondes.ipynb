{
 "cells": [
  {
   "cell_type": "markdown",
   "id": "asian-polyester",
   "metadata": {},
   "source": [
    "# Mécanique et thermodynamique\n",
    "\n",
    "Cette séquence est divisée en 4 séries de TP :\n",
    "* Un TP étudiant les ultrasons et vérifiant la relation de dispersion\n",
    "* Un TP étudiant les ondes à la surface de l'eau pour observer qualitativement différents phénomènes : dispersion, interférences\n",
    "* Un TP étudiant les ondes stationnaires sur une corde de Melde\n",
    "* Un TP étudiant les interférences lumineuses."
   ]
  }
 ],
 "metadata": {
  "jupytext": {
   "encoding": "# -*- coding: utf-8 -*-",
   "formats": "ipynb,md:myst",
   "split_at_heading": true,
   "text_representation": {
    "extension": ".md",
    "format_name": "myst",
    "format_version": 0.13,
    "jupytext_version": "1.10.3"
   }
  },
  "kernelspec": {
   "display_name": "Python 3",
   "language": "python",
   "name": "python3"
  },
  "language_info": {
   "codemirror_mode": {
    "name": "ipython",
    "version": 3
   },
   "file_extension": ".py",
   "mimetype": "text/x-python",
   "name": "python",
   "nbconvert_exporter": "python",
   "pygments_lexer": "ipython3",
   "version": "3.9.2"
  },
  "source_map": [
   15
  ]
 },
 "nbformat": 4,
 "nbformat_minor": 5
}